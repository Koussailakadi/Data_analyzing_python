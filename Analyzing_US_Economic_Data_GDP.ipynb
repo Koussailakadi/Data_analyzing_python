{
 "cells": [
  {
   "cell_type": "code",
   "execution_count": 1,
   "metadata": {},
   "outputs": [],
   "source": [
    "import pandas as pd\n",
    "from bokeh.plotting import figure, output_file, show, output_notebook"
   ]
  },
  {
   "cell_type": "code",
   "execution_count": 2,
   "metadata": {},
   "outputs": [],
   "source": [
    "#fonction pour creer le dashbord\n",
    "def make_dashboard(x, gdp_change, unemployment, title, file_name):\n",
    "    output_file(file_name)\n",
    "    p = figure(title=title, x_axis_label='year', y_axis_label='%')\n",
    "    p.line(x.squeeze(), gdp_change.squeeze(), color=\"firebrick\", line_width=4, legend=\"% GDP change\")\n",
    "    p.line(x.squeeze(), unemployment.squeeze(), line_width=4, legend=\"% unemployed\")\n",
    "    show(p)"
   ]
  },
  {
   "cell_type": "code",
   "execution_count": 3,
   "metadata": {},
   "outputs": [],
   "source": [
    "#importer les données sur internet (les données sont récupérées par IBM)\n",
    "links={'GDP':'https://s3-api.us-geo.objectstorage.softlayer.net/cf-courses-data/CognitiveClass/PY0101EN/projects/coursera_project/clean_gdp.csv',\\\n",
    "       'unemployment':'https://s3-api.us-geo.objectstorage.softlayer.net/cf-courses-data/CognitiveClass/PY0101EN/projects/coursera_project/clean_unemployment.csv'}\n"
   ]
  },
  {
   "cell_type": "code",
   "execution_count": 6,
   "metadata": {},
   "outputs": [
    {
     "name": "stdout",
     "output_type": "stream",
     "text": [
      "le tableau de données GDP -US :\n",
      "    date  level-current  level-chained  change-current  change-chained\n",
      "0   1948          274.8         2020.0            -0.7            -0.6\n",
      "1   1949          272.8         2008.9            10.0             8.7\n",
      "2   1950          300.2         2184.0            15.7             8.0\n",
      "3   1951          347.3         2360.0             5.9             4.1\n",
      "4   1952          367.7         2456.1             6.0             4.7\n",
      "5   1953          389.7         2571.4             0.3            -0.6\n",
      "6   1954          391.1         2556.9             8.9             7.1\n",
      "7   1955          426.2         2739.0             5.6             2.1\n",
      "8   1956          450.1         2797.4             5.5             2.1\n",
      "9   1957          474.9         2856.3             1.5            -0.7\n",
      "10  1958          482.0         2835.3             8.4             6.9\n",
      "11  1959          522.5         3031.0             4.0             2.6\n",
      "12  1960          543.3         3108.7             3.7             2.6\n",
      "13  1961          563.3         3188.1             7.4             6.1\n",
      "14  1962          605.1         3383.1             5.6             4.4\n",
      "15  1963          638.6         3530.4             7.4             5.8\n",
      "16  1964          685.8         3734.0             8.4             6.5\n",
      "17  1965          743.7         3976.7             9.6             6.6\n",
      "18  1966          815.0         4238.9             5.7             2.7\n",
      "19  1967          861.7         4355.2             9.4             4.9\n",
      "20  1968          942.5         4569.0             8.2             3.1\n",
      "21  1969         1019.9         4712.5             5.5             0.2\n",
      "22  1970         1075.9         4722.0             8.5             3.3\n",
      "23  1971         1167.8         4877.6             9.8             5.3\n",
      "24  1972         1282.4         5134.3            11.4             5.6\n",
      "25  1973         1428.5         5424.1             8.4            -0.5\n",
      "26  1974         1548.8         5396.0             9.0            -0.2\n",
      "27  1975         1688.9         5385.4            11.2             5.4\n",
      "28  1976         1877.6         5675.4            11.1             4.6\n",
      "29  1977         2086.0         5937.0            13.0             5.5\n",
      "30  1978         2356.6         6267.2            11.7             3.2\n",
      "31  1979         2632.1         6466.2             8.8            -0.3\n",
      "32  1980         2862.5         6450.4            12.2             2.5\n",
      "33  1981         3211.0         6617.7             4.3            -1.8\n",
      "34  1982         3345.0         6491.3             8.7             4.6\n",
      "35  1983         3638.1         6792.0            11.1             7.2\n",
      "36  1984         4040.7         7285.0             7.5             4.2\n",
      "37  1985         4346.7         7593.8             5.5             3.5\n",
      "38  1986         4590.2         7860.5             6.0             3.5\n",
      "39  1987         4870.2         8132.6             7.9             4.2\n"
     ]
    }
   ],
   "source": [
    "#lire le fichier  GDP.csv (US  Gross Domestic Product )\n",
    "path_gdp=links['GDP']\n",
    "gdp=pd.read_csv(path_gdp) # read\n",
    "#convertir en un DataFrame (un tableau pour facilliter l'accès au données)\n",
    "print('le tableau de données GDP -US :')\n",
    "gdp=pd.DataFrame(gdp)\n",
    "gdp.head() # affiche que 5 lignes\n",
    "print(gdp[0:40]) #on suffit d'afficher 40 valeur pour une bonne lisibilité  "
   ]
  },
  {
   "cell_type": "code",
   "execution_count": 7,
   "metadata": {},
   "outputs": [
    {
     "name": "stdout",
     "output_type": "stream",
     "text": [
      "le tableau qui montre le taux du chômage -US :\n",
      "    date  unemployment\n",
      "0   1948      3.750000\n",
      "1   1949      6.050000\n",
      "2   1950      5.208333\n",
      "3   1951      3.283333\n",
      "4   1952      3.025000\n",
      "5   1953      2.925000\n",
      "6   1954      5.591667\n",
      "7   1955      4.366667\n",
      "8   1956      4.125000\n",
      "9   1957      4.300000\n",
      "10  1958      6.841667\n",
      "11  1959      5.450000\n",
      "12  1960      5.541667\n",
      "13  1961      6.691667\n",
      "14  1962      5.566667\n",
      "15  1963      5.641667\n",
      "16  1964      5.158333\n",
      "17  1965      4.508333\n",
      "18  1966      3.791667\n",
      "19  1967      3.841667\n",
      "20  1968      3.558333\n",
      "21  1969      3.491667\n",
      "22  1970      4.983333\n",
      "23  1971      5.950000\n",
      "24  1972      5.600000\n",
      "25  1973      4.858333\n",
      "26  1974      5.641667\n",
      "27  1975      8.475000\n",
      "28  1976      7.700000\n",
      "29  1977      7.050000\n",
      "30  1978      6.066667\n",
      "31  1979      5.850000\n",
      "32  1980      7.175000\n",
      "33  1981      7.616667\n",
      "34  1982      9.708333\n",
      "35  1983      9.600000\n",
      "36  1984      7.508333\n",
      "37  1985      7.191667\n",
      "38  1986      7.000000\n",
      "39  1987      6.175000\n"
     ]
    }
   ],
   "source": [
    "#lire le fichier  unemployment.csv\n",
    "path_unemployment=links['unemployment']\n",
    "unemployment=pd.read_csv(path_unemployment)\n",
    "#convertir le fichier csv en un tableau de données\n",
    "print('le tableau qui montre le taux du chômage -US :')\n",
    "unemployment=pd.DataFrame(unemployment)\n",
    "unemployment.head() #head shwos only 5 rows\n",
    "print(unemployment[0:40])"
   ]
  },
  {
   "cell_type": "code",
   "execution_count": 8,
   "metadata": {},
   "outputs": [
    {
     "name": "stdout",
     "output_type": "stream",
     "text": [
      "le taux de chômage le plus élevé > 8.5% :\n",
      "     date  unemployment\n",
      "34  1982      9.708333\n",
      "35  1983      9.600000\n",
      "61  2009      9.283333\n",
      "62  2010      9.608333\n",
      "63  2011      8.933333\n"
     ]
    }
   ],
   "source": [
    "#unemployment > 8,5 / affichier le taux de chômage le plus élevé\n",
    "greater_unemployment=unemployment[unemployment['unemployment']>8.5]\n",
    "print('le taux de chômage le plus élevé > 8.5% :\\n',greater_unemployment)"
   ]
  },
  {
   "cell_type": "code",
   "execution_count": 9,
   "metadata": {},
   "outputs": [
    {
     "name": "stdout",
     "output_type": "stream",
     "text": [
      "extraire les données de la colonne -change_current- :\n",
      "0     -0.7\n",
      "1     10.0\n",
      "2     15.7\n",
      "3      5.9\n",
      "4      6.0\n",
      "5      0.3\n",
      "6      8.9\n",
      "7      5.6\n",
      "8      5.5\n",
      "9      1.5\n",
      "10     8.4\n",
      "11     4.0\n",
      "12     3.7\n",
      "13     7.4\n",
      "14     5.6\n",
      "15     7.4\n",
      "16     8.4\n",
      "17     9.6\n",
      "18     5.7\n",
      "19     9.4\n",
      "20     8.2\n",
      "21     5.5\n",
      "22     8.5\n",
      "23     9.8\n",
      "24    11.4\n",
      "25     8.4\n",
      "26     9.0\n",
      "27    11.2\n",
      "28    11.1\n",
      "29    13.0\n",
      "30    11.7\n",
      "31     8.8\n",
      "32    12.2\n",
      "33     4.3\n",
      "34     8.7\n",
      "35    11.1\n",
      "36     7.5\n",
      "37     5.5\n",
      "38     6.0\n",
      "39     7.9\n",
      "Name: change-current, dtype: float64\n"
     ]
    }
   ],
   "source": [
    "#extraire le les données de la colonne 'change_current'\n",
    "print('extraire les données de la colonne -change_current- :')\n",
    "gdp_change =gdp.loc[:,'change-current'] # Create your dataframe with column change-current\n",
    "gdp_change.head()\n",
    "print(gdp_change[0:40])"
   ]
  },
  {
   "cell_type": "code",
   "execution_count": 10,
   "metadata": {},
   "outputs": [
    {
     "name": "stdout",
     "output_type": "stream",
     "text": [
      "extraire les données de la colonne -unemployment- :\n",
      "0     3.750000\n",
      "1     6.050000\n",
      "2     5.208333\n",
      "3     3.283333\n",
      "4     3.025000\n",
      "5     2.925000\n",
      "6     5.591667\n",
      "7     4.366667\n",
      "8     4.125000\n",
      "9     4.300000\n",
      "10    6.841667\n",
      "11    5.450000\n",
      "12    5.541667\n",
      "13    6.691667\n",
      "14    5.566667\n",
      "15    5.641667\n",
      "16    5.158333\n",
      "17    4.508333\n",
      "18    3.791667\n",
      "19    3.841667\n",
      "20    3.558333\n",
      "21    3.491667\n",
      "22    4.983333\n",
      "23    5.950000\n",
      "24    5.600000\n",
      "25    4.858333\n",
      "26    5.641667\n",
      "27    8.475000\n",
      "28    7.700000\n",
      "29    7.050000\n",
      "30    6.066667\n",
      "31    5.850000\n",
      "32    7.175000\n",
      "33    7.616667\n",
      "34    9.708333\n",
      "35    9.600000\n",
      "36    7.508333\n",
      "37    7.191667\n",
      "38    7.000000\n",
      "39    6.175000\n",
      "Name: unemployment, dtype: float64\n"
     ]
    }
   ],
   "source": [
    "#extraire le les données de la colonne 'unmeployment'\n",
    "print('extraire les données de la colonne -unemployment- :')\n",
    "unemployment =unemployment.loc[:,'unemployment']\n",
    "unemployment.head()\n",
    "print(unemployment[0:40])"
   ]
  },
  {
   "cell_type": "code",
   "execution_count": 11,
   "metadata": {},
   "outputs": [
    {
     "name": "stdout",
     "output_type": "stream",
     "text": [
      "extraire les données de la colonne -unemployment- :\n",
      "0     1948\n",
      "1     1949\n",
      "2     1950\n",
      "3     1951\n",
      "4     1952\n",
      "5     1953\n",
      "6     1954\n",
      "7     1955\n",
      "8     1956\n",
      "9     1957\n",
      "10    1958\n",
      "11    1959\n",
      "12    1960\n",
      "13    1961\n",
      "14    1962\n",
      "15    1963\n",
      "16    1964\n",
      "17    1965\n",
      "18    1966\n",
      "19    1967\n",
      "20    1968\n",
      "21    1969\n",
      "22    1970\n",
      "23    1971\n",
      "24    1972\n",
      "25    1973\n",
      "26    1974\n",
      "27    1975\n",
      "28    1976\n",
      "29    1977\n",
      "30    1978\n",
      "31    1979\n",
      "32    1980\n",
      "33    1981\n",
      "34    1982\n",
      "35    1983\n",
      "36    1984\n",
      "37    1985\n",
      "38    1986\n",
      "39    1987\n",
      "Name: date, dtype: int64\n"
     ]
    }
   ],
   "source": [
    "#extraire le les données de la colonne 'date'\n",
    "print('extraire les données de la colonne -unemployment- :')\n",
    "x =gdp.loc[:,'date']# Create your dataframe with column date\n",
    "x.head()\n",
    "print(x[0:40])"
   ]
  },
  {
   "cell_type": "code",
   "execution_count": 14,
   "metadata": {},
   "outputs": [],
   "source": [
    "#donner un titre au Dashbord\n",
    "title ='Analyzing US Economic Data and Building a Dashboard \\n realized by :\\n --KADI koussaila' \n",
    "#donner le nom au fichier html qui va être créé \n",
    "file_name = \"index.html\"\n"
   ]
  },
  {
   "cell_type": "code",
   "execution_count": 13,
   "metadata": {},
   "outputs": [
    {
     "name": "stderr",
     "output_type": "stream",
     "text": [
      "BokehDeprecationWarning: 'legend' keyword is deprecated, use explicit 'legend_label', 'legend_field', or 'legend_group' keywords instead\n",
      "BokehDeprecationWarning: 'legend' keyword is deprecated, use explicit 'legend_label', 'legend_field', or 'legend_group' keywords instead\n"
     ]
    }
   ],
   "source": [
    "#appel à la fonction pour creer le fichier html\n",
    "make_dashboard(x, gdp_change, unemployment, title, file_name)"
   ]
  },
  {
   "cell_type": "code",
   "execution_count": null,
   "metadata": {},
   "outputs": [],
   "source": []
  }
 ],
 "metadata": {
  "kernelspec": {
   "display_name": "Python 3",
   "language": "python",
   "name": "python3"
  },
  "language_info": {
   "codemirror_mode": {
    "name": "ipython",
    "version": 3
   },
   "file_extension": ".py",
   "mimetype": "text/x-python",
   "name": "python",
   "nbconvert_exporter": "python",
   "pygments_lexer": "ipython3",
   "version": "3.8.2"
  }
 },
 "nbformat": 4,
 "nbformat_minor": 4
}
